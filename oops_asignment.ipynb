{
  "nbformat": 4,
  "nbformat_minor": 0,
  "metadata": {
    "colab": {
      "provenance": []
    },
    "kernelspec": {
      "name": "python3",
      "display_name": "Python 3"
    },
    "language_info": {
      "name": "python"
    }
  },
  "cells": [
    {
      "cell_type": "markdown",
      "source": [
        "1. the `Person` class has a constructor that takes `name` and `age` as arguments and assigns them to the object's attributes. The `introduce` method is then invoked on the object to introduce the person."
      ],
      "metadata": {
        "id": "HQ27Y5ReEs0f"
      }
    },
    {
      "cell_type": "code",
      "execution_count": null,
      "metadata": {
        "id": "16qIpOkyEVEx"
      },
      "outputs": [],
      "source": [
        "class Person:\n",
        "  def __init__(self,name,age):\n",
        "    self.name=name\n",
        "    self.age=age\n",
        "  def intriduce(self):\n",
        "    print(f\"name is: {self.name} age is: {self.age}\")"
      ]
    },
    {
      "cell_type": "code",
      "source": [
        "person=Person(\"malkit\",18)"
      ],
      "metadata": {
        "id": "yCzgW2jRFaHq"
      },
      "execution_count": null,
      "outputs": []
    },
    {
      "cell_type": "code",
      "source": [
        "person.intriduce()"
      ],
      "metadata": {
        "colab": {
          "base_uri": "https://localhost:8080/"
        },
        "id": "UlOrhBMsFlul",
        "outputId": "9d82efb3-ee8c-4215-f99c-116432494db0"
      },
      "execution_count": null,
      "outputs": [
        {
          "output_type": "stream",
          "name": "stdout",
          "text": [
            "name is: malkit age is: 18\n"
          ]
        }
      ]
    },
    {
      "cell_type": "markdown",
      "source": [
        "2. the `Car` class has a constructor that takes `brand` and `model` as arguments and assigns them to the object's attributes. The `display_info` method is then invoked on the object to display the car's brand and model."
      ],
      "metadata": {
        "id": "EGTpa9OTFzVy"
      }
    },
    {
      "cell_type": "code",
      "source": [
        "class Car:\n",
        "  def __init__(self,brand,model):\n",
        "    self.brand=brand\n",
        "    self.model=model\n",
        "  def display_info(self):\n",
        "    print(f\"brand is: {self.brand} model is: {self.model}\")\n"
      ],
      "metadata": {
        "id": "di6FqXxmFrDd"
      },
      "execution_count": null,
      "outputs": []
    },
    {
      "cell_type": "code",
      "source": [
        "car=Car(\"scorpio\",2022)"
      ],
      "metadata": {
        "id": "xnlyMJcMHJvn"
      },
      "execution_count": null,
      "outputs": []
    },
    {
      "cell_type": "code",
      "source": [
        "car.display_info()"
      ],
      "metadata": {
        "colab": {
          "base_uri": "https://localhost:8080/"
        },
        "id": "RdWmTiOUHnkM",
        "outputId": "9b4d8828-bc61-4782-bb60-485ec4c63d7a"
      },
      "execution_count": null,
      "outputs": [
        {
          "output_type": "stream",
          "name": "stdout",
          "text": [
            "brand is: scorpio model is: 2022\n"
          ]
        }
      ]
    },
    {
      "cell_type": "markdown",
      "source": [
        "3. the `BankAccount` class has a constructor that takes `account_number` and `balance` as arguments and assigns them to the object's attributes. The `display_balance` method is then invoked on the object to display the account number and balance."
      ],
      "metadata": {
        "id": "Q27aV1KEIsLK"
      }
    },
    {
      "cell_type": "code",
      "source": [
        "class BankAccount:\n",
        "  def __init__(self,account_number,balance):\n",
        "    self.account_number=account_number\n",
        "    self.balance=balance\n",
        "  def display_balance(self):\n",
        "    print(f\"account_number is: {self.account_number} balance is: {self.balance}\")"
      ],
      "metadata": {
        "id": "WGepO1DtHsSj"
      },
      "execution_count": null,
      "outputs": []
    },
    {
      "cell_type": "code",
      "source": [
        "bankaccount=BankAccount(77423,1256)"
      ],
      "metadata": {
        "id": "wrublQjxJxPT"
      },
      "execution_count": null,
      "outputs": []
    },
    {
      "cell_type": "code",
      "source": [
        "bankaccount.display_balance()"
      ],
      "metadata": {
        "colab": {
          "base_uri": "https://localhost:8080/"
        },
        "id": "ICmBiklOJ_34",
        "outputId": "d92cef0c-ae7b-4113-cffd-2e36360c8996"
      },
      "execution_count": null,
      "outputs": [
        {
          "output_type": "stream",
          "name": "stdout",
          "text": [
            "account_number is: 77423 balance is: 1256\n"
          ]
        }
      ]
    },
    {
      "cell_type": "markdown",
      "source": [
        "4.  the `MobilePhone` class has a constructor that takes `brand` and `model` as arguments and assigns them to the object's attributes. The `make_call` method is then invoked on the object to make a call with the phone."
      ],
      "metadata": {
        "id": "bUPBycPNKMmA"
      }
    },
    {
      "cell_type": "code",
      "source": [
        "class MobilePhone:\n",
        "  def __init__(self,brand,model):\n",
        "    self.brand=brand\n",
        "    self.model=model\n",
        "  def make_call(self):\n",
        "    print(f\"the brand is: {self.brand} the model is: {self.model}\")"
      ],
      "metadata": {
        "id": "rfb79d2aKEoL"
      },
      "execution_count": null,
      "outputs": []
    },
    {
      "cell_type": "code",
      "source": [
        "mobilephone=MobilePhone(\"samsung\",\"s24 ultra\")"
      ],
      "metadata": {
        "id": "_eEffMWTLJYY"
      },
      "execution_count": null,
      "outputs": []
    },
    {
      "cell_type": "code",
      "source": [
        "mobilephone.make_call()"
      ],
      "metadata": {
        "colab": {
          "base_uri": "https://localhost:8080/"
        },
        "id": "T8kbNKz2LZh2",
        "outputId": "a23f6ded-eed5-4e51-c1cc-21aa45149a14"
      },
      "execution_count": null,
      "outputs": [
        {
          "output_type": "stream",
          "name": "stdout",
          "text": [
            "the brand is: samsung the model is: s24 ultra\n"
          ]
        }
      ]
    },
    {
      "cell_type": "markdown",
      "source": [
        "5. the `Book` class has a constructor that takes `title` and `author` as arguments and assigns them to the object's attributes. The `display_info` method is then invoked on the object to display the book's title and author."
      ],
      "metadata": {
        "id": "HicbfJ0_LoDE"
      }
    },
    {
      "cell_type": "code",
      "source": [
        "class Book:\n",
        "  def __init__(self,title,author):\n",
        "    self.title=title\n",
        "    self.author=author\n",
        "  def display_info(self):\n",
        "    print(f\"the title is: {self.title}\")\n",
        "  def displayinfo(self):\n",
        "    print(f\"the author is: {self.author}\")"
      ],
      "metadata": {
        "id": "8o8rtJijL3Yj"
      },
      "execution_count": null,
      "outputs": []
    },
    {
      "cell_type": "code",
      "source": [
        "book=Book(\"jai jaat\",\"malkit choudhary\")"
      ],
      "metadata": {
        "id": "K20zKfeKLeBf"
      },
      "execution_count": null,
      "outputs": []
    },
    {
      "cell_type": "code",
      "source": [
        "book.display_info()\n",
        "book.displayinfo()"
      ],
      "metadata": {
        "colab": {
          "base_uri": "https://localhost:8080/"
        },
        "id": "s-Bwj0hUNkmH",
        "outputId": "9b177bcb-11d4-4c3e-d4bb-f7df2f83834e"
      },
      "execution_count": null,
      "outputs": [
        {
          "output_type": "stream",
          "name": "stdout",
          "text": [
            "the title is: jai jaat\n",
            "the author is: malkit choudhary\n"
          ]
        }
      ]
    },
    {
      "cell_type": "markdown",
      "source": [
        "6. Vehicles: Create a base class called Vehicle with attributes such as make, model, and year. Implement two subclasses Car and Motorcycle that inherit from Vehicle. Add additional methods to the subclasses, such as start_engine() and stop_engine(), and handle any specific behavior or rules for each vehicle type."
      ],
      "metadata": {
        "id": "Z1GVigDhNzWy"
      }
    },
    {
      "cell_type": "code",
      "source": [
        "class Vehicles:\n",
        "  def __init__(self,make,model,year):\n",
        "    self.make=make\n",
        "    self.model=model\n",
        "    self.year=year\n",
        "  def start_engine(self):\n",
        "    print(f\"the engine of the:{self.make} {self.model} {self.year} has started \")\n",
        "  def stop_engine(self):\n",
        "    print(f\"the engine of the:{self.make} {self.model} {self.year} has stoped\")"
      ],
      "metadata": {
        "id": "f_HSOJ-jNrR2"
      },
      "execution_count": null,
      "outputs": []
    },
    {
      "cell_type": "code",
      "source": [
        "class Car(Vehicles):\n",
        "  def __init__(self,make,model,year):\n",
        "    super().__init__(make,model,year,)\n",
        "  def start_engine(self):\n",
        "    print(\" car engine is ready to go\")\n",
        "  def stop_engine(self):\n",
        "    print(\" car engine is not ready to go\")"
      ],
      "metadata": {
        "id": "v-iV1v8aUC4y"
      },
      "execution_count": null,
      "outputs": []
    },
    {
      "cell_type": "code",
      "source": [
        "class Motorcycle(Vehicles):\n",
        "  def __init__(self,make,model,year):\n",
        "    super().__init__(make,model,year,)\n",
        "\n",
        "  def start_engine(self):\n",
        "    print(\" bike engine is ready to go\")\n",
        "  def stop_engine(self):\n",
        "    print(\" bike engine is not ready to go\")"
      ],
      "metadata": {
        "id": "ufQ-XNtVW0Hl"
      },
      "execution_count": null,
      "outputs": []
    },
    {
      "cell_type": "code",
      "source": [
        "my1=Vehicles(\"toyota\",\"fortonar\",2021)\n",
        "my1.start_engine()\n",
        "my.start_engine()\n",
        "my1.stop_engine()\n",
        "my=Car(\"toyota\",\"fortonar\",2021)\n",
        "my.stop_engine()\n",
        "my2=Vehicles(\"yama\",\"Rx100\",1997)\n",
        "my3=Motorcycle(\"yama\",\"Rx100\",1997)\n",
        "my2.start_engine()\n",
        "my3.start_engine()\n",
        "my2.stop_engine()\n",
        "my3.stop_engine()"
      ],
      "metadata": {
        "colab": {
          "base_uri": "https://localhost:8080/"
        },
        "id": "jKPFHxS0Y4YX",
        "outputId": "dcdc9df9-a965-4157-b033-7529c471712a"
      },
      "execution_count": null,
      "outputs": [
        {
          "output_type": "stream",
          "name": "stdout",
          "text": [
            "the engine of the:toyota fortonar 2021 has started \n",
            " car engine is ready to go\n",
            "the engine of the:toyota fortonar 2021 has stoped\n",
            " car engine is not ready to go\n",
            "the engine of the:yama Rx100 1997 has started \n",
            " bike engine is ready to go\n",
            "the engine of the:yama Rx100 1997 has stoped\n",
            " bike engine is not ready to go\n"
          ]
        }
      ]
    },
    {
      "cell_type": "markdown",
      "source": [
        "7. Animals: Create a base class called Animal with methods such as eat() and sleep(). Implement two subclasses Dog and Cat that inherit from Animal. Add additional methods to the subclasses, such as bark() for dogs and meow() for cats, and handle any specific behavior or rules for each animal type."
      ],
      "metadata": {
        "id": "FU3Tx4WdfxT6"
      }
    },
    {
      "cell_type": "code",
      "source": [
        "class Animals:\n",
        "  def __init__(self,eat,sleep):\n",
        "    self.eat=eat\n",
        "    self.sleep=sleep\n",
        "  def bark(self):\n",
        "    print(f\"the dog is eating: {self.eat},and {self.sleep}\")\n",
        "  def meow(self):\n",
        "    print(f\"the cat is eating: {self.eat},and {self.sleep}\")"
      ],
      "metadata": {
        "id": "qFBQhtMQXXIB"
      },
      "execution_count": null,
      "outputs": []
    },
    {
      "cell_type": "code",
      "source": [
        "class Dog(Animals):\n",
        "  def __init__(self,eat,sleep):\n",
        "    super().__init__(eat,sleep)\n",
        "  def bark(self):\n",
        "    print(\"the dog is barking\")\n",
        "  def meow(self):\n",
        "    print(\"the cat is meow\")"
      ],
      "metadata": {
        "id": "eX8t77hJX7NB"
      },
      "execution_count": null,
      "outputs": []
    },
    {
      "cell_type": "code",
      "source": [
        "class Cat(Animals):\n",
        "  def __init__(self,eat,sleep):\n",
        "    super().__init__(eat,sleep)\n",
        "  def bark(self):\n",
        "     print(\"the dog is barking\")\n",
        "  def meow(self):\n",
        "    print(\"the cat is meow\")"
      ],
      "metadata": {
        "id": "_gizLSXIpWN5"
      },
      "execution_count": null,
      "outputs": []
    },
    {
      "cell_type": "code",
      "source": [
        "an=Animals(\"roti\",\"sleep in day\")\n",
        "an.bark()\n",
        "an1=Dog(\"\",\"\")\n",
        "an1.bark()\n",
        "an3=Animals(\"milk\",\"sleep in night\" )\n",
        "an3.meow()\n",
        "an4=Cat(\"\",\"\")\n",
        "an4.meow()"
      ],
      "metadata": {
        "colab": {
          "base_uri": "https://localhost:8080/"
        },
        "id": "D8g2g8Hap0jM",
        "outputId": "0faecab6-ef08-45f5-b248-a416aa1f314e"
      },
      "execution_count": null,
      "outputs": [
        {
          "output_type": "stream",
          "name": "stdout",
          "text": [
            "the dog is eating: roti,and sleep in day\n",
            "the dog is barking\n",
            "the cat is eating: milk,and sleep in night\n",
            "the cat is meow\n"
          ]
        }
      ]
    },
    {
      "cell_type": "markdown",
      "source": [
        "8. Library Catalog: Create a base class called LibraryItem with attributes such as title, author, and publication_year. Implement two subclasses Book and Magazine that inherit from LibraryItem. Add additional methods to the subclasses, such as checkout() and return_item(), and handle any specific behavior or rules for each item type.\n"
      ],
      "metadata": {
        "id": "wu5Bst41scw4"
      }
    },
    {
      "cell_type": "code",
      "source": [
        "class Library:\n",
        "  def __init__(self,title,author,publication_year):\n",
        "    self.title=title\n",
        "    self.author=author\n",
        "    self.publication_year=publication_year\n",
        "  def checkout(self):\n",
        "    print(f\"check this: {self.title},{self.author},{self.publication_year} \")\n",
        "  def return_item(self):\n",
        "    print(f\"return item is: {self.title},{self.author},{self.publication_year}\")"
      ],
      "metadata": {
        "id": "Z6ECm3SpqHXW"
      },
      "execution_count": null,
      "outputs": []
    },
    {
      "cell_type": "code",
      "source": [
        "class Book(Library):\n",
        "  def __init__(self,title,author,publication_year):\n",
        "    super().__init__(title,author,publication_year)\n",
        "  def checkout(self):\n",
        "    print(\"this is a real\")\n",
        "  def return_item(self):\n",
        "    print(\"this is retrun value\")"
      ],
      "metadata": {
        "id": "t8nXtzu8vvSt"
      },
      "execution_count": null,
      "outputs": []
    },
    {
      "cell_type": "code",
      "source": [
        "class Magazine(Library):\n",
        "  def __init__(self,title,author,publication_year):\n",
        "    super().__init__(title,author,publication_year)\n",
        "  def checkout(self):\n",
        "    print(\"this is a real\")\n",
        "  def return_item(self):\n",
        "    print(\"this is retrun value\")"
      ],
      "metadata": {
        "id": "_Vjx2KUCwjJu"
      },
      "execution_count": null,
      "outputs": []
    },
    {
      "cell_type": "code",
      "source": [
        "li=Library(\"world war\",\"malkit choudhary\",2024)\n",
        "li.checkout()\n",
        "li1=Book(\"world war\",\"malkit choudhary\",2024)\n",
        "li1.checkout()\n",
        "li.return_item()\n",
        "li1.return_item()\n",
        "li2=Library(\"2world war\",\"malkit sehrawat\",2023)\n",
        "li2.checkout()\n",
        "li3=Magazine(\"2world war\",\"malkit sehrawat\",2023)\n",
        "li3.checkout()\n",
        "li2.return_item()\n",
        "li3.return_item()\n"
      ],
      "metadata": {
        "colab": {
          "base_uri": "https://localhost:8080/"
        },
        "id": "9_YxWKHwzB14",
        "outputId": "41fab29c-0cf9-4ddf-ff08-adf36fb23f50"
      },
      "execution_count": null,
      "outputs": [
        {
          "output_type": "stream",
          "name": "stdout",
          "text": [
            "check this: world war,malkit choudhary,2024 \n",
            "this is a real\n",
            "return item is: world war,malkit choudhary,2024\n",
            "this is retrun value\n",
            "check this: 2world war,malkit sehrawat,2023 \n",
            "this magazine is a real\n",
            "return item is: 2world war,malkit sehrawat,2023\n",
            "this is magazine retrun value\n"
          ]
        }
      ]
    },
    {
      "cell_type": "markdown",
      "source": [
        "9. Employees and Departments: Create a base class called Employee with attributes such as name, salary, and department. Implement two subclasses Manager and Staff that inherit from Employee. Add additional methods to the subclasses, such as assign_task() for managers and attend_meeting() for staff members. Create a separate class called Department that contains a list of employees and methods to add or remove employees from the department.\n",
        "\n",
        "कर्मचारी और विभाग: नाम, वेतन और विभाग जैसी विशेषताओं के साथ कर्मचारी नामक एक आधार वर्ग बनाएं। कर्मचारी से विरासत में मिले दो उपवर्ग प्रबंधक और कर्मचारी लागू करें। उपवर्गों में अतिरिक्त विधियाँ जोड़ें, जैसे प्रबंधकों के लिए assign_task() और स्टाफ सदस्यों के लिए Attend_meeting()। विभाग नामक एक अलग वर्ग बनाएं जिसमें कर्मचारियों की एक सूची और विभाग में कर्मचारियों को जोड़ने या हटाने के तरीके शामिल हों।"
      ],
      "metadata": {
        "id": "6wlp05-eWPQp"
      }
    },
    {
      "cell_type": "code",
      "source": [
        "class Employees:\n",
        "  def __init__(self,name,salary,department):\n",
        "\n",
        "    self.name=name\n",
        "    self.salary=salary\n",
        "    self.department=department\n",
        "  def display(self):\n",
        "    print(f\"name: {self.name},salary: {self.salary}, department: {self.department}\")"
      ],
      "metadata": {
        "id": "UGjuRH5JzZer"
      },
      "execution_count": null,
      "outputs": []
    },
    {
      "cell_type": "code",
      "source": [
        "class Managers(Employees):\n",
        "  def __init__(self,name,salary,department):\n",
        "\n",
        "    super().__init__(name,salary,department)\n",
        "\n",
        "  def assign_task(self,task,employees):\n",
        "\n",
        "    print(f\"{self.name},assign task:{task},employees name:{employees}\")"
      ],
      "metadata": {
        "id": "WeptWJNMY7Aj"
      },
      "execution_count": null,
      "outputs": []
    },
    {
      "cell_type": "code",
      "source": [
        "class Staff(Employees):\n",
        "\n",
        "  def __init__(self,name,salary,department):\n",
        "\n",
        "    super().__init__(name,salary,department)\n",
        "\n",
        "  def attend_meeting(self):\n",
        "\n",
        "    print(f\"{self.name}attend the meeting\")"
      ],
      "metadata": {
        "id": "edUftpeHbE_b"
      },
      "execution_count": null,
      "outputs": []
    },
    {
      "cell_type": "code",
      "source": [
        "class Department:\n",
        "\n",
        "  def __init__(self, dep_name):\n",
        "        self.dep_name=dep_name\n",
        "        self.employees=[]\n",
        "\n",
        "  def add_employee(self,employee):\n",
        "    self.employees.append(employee)\n",
        "    print(f\"{employee.name}is added{self.dep_name}\")\n",
        "\n",
        "  def remove_employee(self,employee):\n",
        "    self.employees.remove(employee)\n",
        "    print(f\"{self.name}is remove{self.dep_name}\")\n",
        "\n",
        "  def list_employees(self):\n",
        "        print(f\"Employees in {self.dept_name}:\")\n",
        "        for employee in self.employees:\n",
        "            employee.display_details()"
      ],
      "metadata": {
        "id": "eKzybNGhbqxG"
      },
      "execution_count": null,
      "outputs": []
    },
    {
      "cell_type": "code",
      "source": [
        "em1=Employees(\"malkit\",200000,\"IT\")\n",
        "em2=Employees(\"tusar\",211000,\"IT\")"
      ],
      "metadata": {
        "id": "wuiK6pG3gztx"
      },
      "execution_count": null,
      "outputs": []
    },
    {
      "cell_type": "code",
      "source": [
        "manager=Managers(\"dipanshu\",20,\"IT\")"
      ],
      "metadata": {
        "id": "_FiEslbSvgQv"
      },
      "execution_count": null,
      "outputs": []
    },
    {
      "cell_type": "code",
      "source": [
        "manager.assign_task(\"make project\",\"001\")"
      ],
      "metadata": {
        "colab": {
          "base_uri": "https://localhost:8080/"
        },
        "id": "I5bo--npvMMi",
        "outputId": "138dfa0a-c6d9-4934-bf20-5ff85443ac1c"
      },
      "execution_count": null,
      "outputs": [
        {
          "output_type": "stream",
          "name": "stdout",
          "text": [
            "dipanshu,assign task:make project,employees name:001\n"
          ]
        }
      ]
    },
    {
      "cell_type": "code",
      "source": [
        "it_department=Department(\"IT department\")"
      ],
      "metadata": {
        "id": "uNrS5sk9wasm"
      },
      "execution_count": null,
      "outputs": []
    },
    {
      "cell_type": "code",
      "source": [
        "it_department.add_employee(em1)\n",
        "it_department.add_employee(em2)"
      ],
      "metadata": {
        "colab": {
          "base_uri": "https://localhost:8080/"
        },
        "id": "9krlf38Uwke0",
        "outputId": "fb873f2d-3914-4e0c-c90a-f3a7948158da"
      },
      "execution_count": null,
      "outputs": [
        {
          "output_type": "stream",
          "name": "stdout",
          "text": [
            "malkitis addedIT department\n",
            "tusaris addedIT department\n"
          ]
        }
      ]
    },
    {
      "cell_type": "code",
      "source": [],
      "metadata": {
        "id": "Adhx47eR0MVz"
      },
      "execution_count": null,
      "outputs": []
    },
    {
      "cell_type": "code",
      "source": [],
      "metadata": {
        "id": "pw6nin2cxX5K"
      },
      "execution_count": null,
      "outputs": []
    },
    {
      "cell_type": "markdown",
      "source": [
        "10. Bank Transactions: Create a base class called BankAccount with attributes such as account_number and balance. Implement subclasses for different types of accounts such as CheckingAccount and SavingsAccount that inherit from BankAccount. Add additional methods to the subclasses, such as withdraw() and deposit(), and handle any specific behavior or rules for each account type."
      ],
      "metadata": {
        "id": "JhyP9sRL3B9d"
      }
    },
    {
      "cell_type": "code",
      "source": [
        "class BankAccount:\n",
        "  def __init__(self,account_number,balance):\n",
        "    self.account_number=account_number\n",
        "    self.balance=balance\n",
        "  def jai(self):\n",
        "    print(f\"account number is: {self.account_number} balance is:{self.balance}\")"
      ],
      "metadata": {
        "id": "e38QetO23DDM"
      },
      "execution_count": null,
      "outputs": []
    },
    {
      "cell_type": "code",
      "source": [],
      "metadata": {
        "id": "t7XSBr-qArw9"
      },
      "execution_count": null,
      "outputs": []
    },
    {
      "cell_type": "code",
      "source": [
        "class bank_amount:\n",
        "    def __init__(self,account_n,account_h,bal):\n",
        "      self.account_number=account_n\n",
        "      self.account_holder=account_h\n",
        "      self.balance=bal\n",
        "    def deposit(self,deposit):\n",
        "      self.balance=self.balance+deposit\n",
        "    def withdrow(self,withdrow):\n",
        "      if withdrow<=self.balance:\n",
        "        self.balance=self.balance-withdrow\n",
        "      else:\n",
        "        print(\"you dont have enough balance\")\n"
      ],
      "metadata": {
        "id": "Istz-NVdBJQP"
      },
      "execution_count": null,
      "outputs": []
    },
    {
      "cell_type": "code",
      "source": [
        "class Bank:\n",
        "    def __init__(self, username, password):\n",
        "        self.user_name = input(f\"Enter {username}: \")\n",
        "        self.pass_word = input(f\"Enter {password}: \")\n",
        "\n",
        "    def check_detail(self):\n",
        "        if self.user_name == \"malkit\" and self.pass_word == \"1234\":\n",
        "            print(\"Log in successfully\")\n",
        "        else:\n",
        "            print(\"Wrong ID or password\")\n",
        "\n",
        "# Example usage:\n",
        "user = Bank(\"username\", \"password\")\n",
        "user.check_detail()\n"
      ],
      "metadata": {
        "colab": {
          "base_uri": "https://localhost:8080/"
        },
        "id": "RayaPwN5LTVy",
        "outputId": "75c4e666-5043-4810-b365-9d6dedf2df43"
      },
      "execution_count": null,
      "outputs": [
        {
          "output_type": "stream",
          "name": "stdout",
          "text": [
            "Enter username: ma;lkit\n",
            "Enter password: 1234\n",
            "Wrong ID or password\n"
          ]
        }
      ]
    },
    {
      "cell_type": "markdown",
      "source": [
        "10. Bank Transactions: Create a base class called BankAccount with attributes such as account_number and balance. Implement subclasses for different types of accounts such as CheckingAccount and SavingsAccount that inherit from BankAccount. Add additional methods to the subclasses, such as withdraw() and deposit(), and handle any specific behavior or rules for each account type.\n",
        "\n",
        "  बैंक लेनदेन: खाता_नंबर और बैलेंस जैसी विशेषताओं के साथ BankAccount नामक एक बेस क्लास बनाएं। विभिन्न प्रकार के खातों जैसे कि चेकिंगअकाउंट और सेविंग्सअकाउंट के लिए उपवर्ग लागू करें जो बैंकअकाउंट से प्राप्त होते हैं। उपवर्गों में अतिरिक्त तरीके जोड़ें, जैसे निकासी() और जमा(), और प्रत्येक खाता प्रकार के लिए किसी विशिष्ट व्यवहार या नियमों को संभालें।\n"
      ],
      "metadata": {
        "id": "oP4XaX3NLkyi"
      }
    },
    {
      "cell_type": "code",
      "source": [
        "class BankAccount:\n",
        "  def __init__(self,account_number,balance):\n",
        "    self.account_number=int(account_number)\n",
        "    self.balance=int(balance)\n",
        "  def jai(self):\n",
        "      if self.account_number ==77423 and self.balance != -1:\n",
        "        print(f\"account number is: {self.account_number} balance is:{self.balance}\")\n",
        "      else:\n",
        "        print(\"please put on correct account number\")\n"
      ],
      "metadata": {
        "id": "bY3W1ojBLfB3"
      },
      "execution_count": 26,
      "outputs": []
    },
    {
      "cell_type": "code",
      "source": [
        "class CheckingAccount(BankAccount):\n",
        "  def __init__(self,account_number,balance):\n",
        "    super().__init__(account_number,balance)\n",
        "  def withdrow(self,amount):\n",
        "    if amount<=self.balance:\n",
        "        self.balance-=amount\n",
        "        print(f\"withdrow succesful new balance {self.balance}\")\n",
        "    else:\n",
        "        print(\"you dont have enough balance\")\n",
        "  def deposit(self, amount):\n",
        "        if amount>0:\n",
        "            self.balance+=amount\n",
        "            print(f\"Deposit successful. New balance: {self.balance}\")\n",
        "        else:\n",
        "            print(\"Deposit amount large than zero.\")"
      ],
      "metadata": {
        "id": "JHKCCwpdMSfS"
      },
      "execution_count": 27,
      "outputs": []
    },
    {
      "cell_type": "code",
      "source": [
        "class SavingsAccount(BankAccount):\n",
        "   def __init__(self,account_number,balance):\n",
        "    super().__init__(account_number,balance)\n",
        "   def withdrow(self,amount):\n",
        "    if amount<=self.balance:\n",
        "        self.balance-=amount\n",
        "        print(f\"withdrow succesful new balance {self.balance}\")\n",
        "    else:\n",
        "        print(\"you dont have enough balance\")\n",
        "   def deposit(self, amount):\n",
        "        if amount>0:\n",
        "            self.balance+=amount\n",
        "            print(f\"Deposit successful. New balance and this is your saving: {self.balance}\")\n",
        "        else:\n",
        "            print(\"Deposit amount large than zero.\")"
      ],
      "metadata": {
        "id": "pPeV3vC3UQiA"
      },
      "execution_count": 30,
      "outputs": []
    },
    {
      "cell_type": "code",
      "source": [
        "bank=BankAccount(7743,500)\n",
        "bank.jai()"
      ],
      "metadata": {
        "colab": {
          "base_uri": "https://localhost:8080/"
        },
        "id": "N54fQth2QdtY",
        "outputId": "6fa43466-419c-4792-8c92-2c9c33eb0ee9"
      },
      "execution_count": 31,
      "outputs": [
        {
          "output_type": "stream",
          "name": "stdout",
          "text": [
            "please put on correct account number\n"
          ]
        }
      ]
    },
    {
      "cell_type": "code",
      "source": [
        "bank1=CheckingAccount(77423,500)\n",
        "bank1.withdrow(100)\n",
        "bank1.deposit(300)\n",
        "\n",
        "bank2=SavingsAccount(77423,500)\n",
        "bank2.withdrow(200)\n",
        "bank2.deposit(600)\n",
        "bank2.balance\n"
      ],
      "metadata": {
        "colab": {
          "base_uri": "https://localhost:8080/"
        },
        "id": "Ezw5JfrmQyFo",
        "outputId": "ff0ccb4b-5f1f-4e27-cb90-75079eac7159"
      },
      "execution_count": 32,
      "outputs": [
        {
          "output_type": "stream",
          "name": "stdout",
          "text": [
            "withdrow succesful new balance 400\n",
            "Deposit successful. New balance: 700\n",
            "withdrow succesful new balance 300\n",
            "Deposit successful. New balance and this is your saving: 900\n"
          ]
        },
        {
          "output_type": "execute_result",
          "data": {
            "text/plain": [
              "900"
            ]
          },
          "metadata": {},
          "execution_count": 32
        }
      ]
    },
    {
      "cell_type": "markdown",
      "source": [
        "11. School Management System: Create a base class called Person with attributes such as name, age, and address. Implement subclasses for different roles such as Student, Teacher, and Staff that inherit from Person. Add additional methods to the subclasses, such as take_exam() for students and teach_subject() for teachers."
      ],
      "metadata": {
        "id": "lEBI7hqrMssU"
      }
    },
    {
      "cell_type": "code",
      "source": [
        "class Person:\n",
        "  def __init__(self,name,age,address):\n",
        "    self.name=name\n",
        "    self.age=age\n",
        "    self.address=address\n",
        "  def ram(self):\n",
        "    print(f\"name is: {self.name} age is: {self.age} address is: {self.address}\")"
      ],
      "metadata": {
        "id": "pGe7aauLRQMs"
      },
      "execution_count": 14,
      "outputs": []
    },
    {
      "cell_type": "code",
      "source": [
        "class Student(Person):\n",
        "  def __init__(self,name,age,address,):\n",
        "    super().__init__(name,age,address)\n",
        "\n",
        "  def take_exam(self):\n",
        "    print(f\"{self.name}: is take exam\")"
      ],
      "metadata": {
        "id": "4Y4VcMTMOy98"
      },
      "execution_count": 15,
      "outputs": []
    },
    {
      "cell_type": "code",
      "source": [
        "class Teacher(Person):\n",
        "  def __init__(self,name,age,address,subject):\n",
        "    super().__init__(name,age,address)\n",
        "    self.subject=subject\n",
        "  def teach_subject(self):\n",
        "    print(f\"{self.name}: this is teaching subject: {self.subject}\")"
      ],
      "metadata": {
        "id": "-HIQmA4sPPbk"
      },
      "execution_count": 16,
      "outputs": []
    },
    {
      "cell_type": "code",
      "source": [
        "class Staff(Person):\n",
        "  def __init__(self,name,age,address,):\n",
        "    super().__init__(name,age,address)\n",
        "  def shyam(self):\n",
        "    print(f\"{self.name}: this is staff member from: {self.address}\")"
      ],
      "metadata": {
        "id": "RUlGetZTRiRM"
      },
      "execution_count": 21,
      "outputs": []
    },
    {
      "cell_type": "code",
      "source": [
        "person=Person(\"harsh\",\"20\",\"jaatpur\")\n",
        "person.ram()\n",
        "student=Student(\"malkit\",\"18\",\"jaatwas\",)\n",
        "student.take_exam()\n",
        "teacher=Teacher(\"sahil\",\"35\",\"jaatka\",\"english\")\n",
        "teacher.teach_subject()\n",
        "staff=Staff(\"rakesh\",\"32\",\"jaatuwas\")\n",
        "staff.shyam()"
      ],
      "metadata": {
        "colab": {
          "base_uri": "https://localhost:8080/"
        },
        "id": "bADju_TsSBFC",
        "outputId": "135e129c-bc48-4b91-b6a1-524cfc96a566"
      },
      "execution_count": 24,
      "outputs": [
        {
          "output_type": "stream",
          "name": "stdout",
          "text": [
            "name is: harsh age is: 20 address is: jaatpur\n",
            "malkit: is take exam\n",
            "sahil: this is teaching subject: english\n",
            "rakesh: this is staff member from: jaatuwas\n"
          ]
        }
      ]
    },
    {
      "cell_type": "code",
      "source": [],
      "metadata": {
        "id": "Mr_id8rrSUEn"
      },
      "execution_count": null,
      "outputs": []
    }
  ]
}